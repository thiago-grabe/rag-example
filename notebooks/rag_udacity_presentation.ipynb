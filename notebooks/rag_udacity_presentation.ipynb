{
 "cells": [
  {
   "cell_type": "code",
   "execution_count": null,
   "metadata": {},
   "outputs": [
    {
     "data": {
      "text/plain": [
       "\"\\nThe objective of this notebook is to demonstrate how to create a Retrieval-Augmented Generation (RAG) system using:\\n1. Generated data about cars.\\n2. OpenAI's Embedding model to convert car descriptions to vectors.\\n3. Chroma as the in-memory vector database to store and retrieve relevant vectors.\\n\""
      ]
     },
     "execution_count": 1,
     "metadata": {},
     "output_type": "execute_result"
    }
   ],
   "source": [
    "import os\n",
    "import openai\n",
    "import chromadb\n",
    "import numpy as np\n",
    "import pandas as pd\n",
    "from chromadb.utils import embedding_functions\n",
    "from dotenv import load_dotenv\n",
    "\n",
    "load_dotenv()\n",
    "\n",
    "# Let's use Chroma to implement an in-memory vector store.\n",
    "# This example will use generated data about cars for embedding storage and retrieval.\n",
    "\n",
    "# Step 1: Install necessary packages (to be run in a notebook cell)\n",
    "# !pip install openai chromadb\n",
    "\n",
    "\"\"\"\n",
    "The objective of this notebook is to demonstrate how to create a Retrieval-Augmented Generation (RAG) system using:\n",
    "1. Generated data about cars.\n",
    "2. OpenAI's Embedding model to convert car descriptions to vectors.\n",
    "3. Chroma as the in-memory vector database to store and retrieve relevant vectors.\n",
    "\"\"\""
   ]
  },
  {
   "cell_type": "code",
   "execution_count": 2,
   "metadata": {},
   "outputs": [],
   "source": [
    "# Step 2: Setting up OpenAI key\n",
    "# Note: You need an OpenAI API key to proceed. Set it below.\n",
    "openai.api_key = os.environ[\"OPENAI_API_KEY\"]\n"
   ]
  },
  {
   "cell_type": "code",
   "execution_count": 3,
   "metadata": {},
   "outputs": [],
   "source": [
    "# Step 3: Generate data for the cars\n",
    "\"\"\"\n",
    "To simulate a real dataset, we'll generate information about cars. Each car will have a name, price, engine type, and description.\n",
    "The following data is used to showcase how information is stored and used in the vector database for retrieval.\n",
    "\"\"\"\n",
    "\n",
    "# Here we define a small set of initial car data manually.\n",
    "# This will serve as our base dataset to which we will later add more generated cars.\n",
    "cars = [\n",
    "    {\n",
    "        \"name\": \"Superfast Coupe 2024\",\n",
    "        \"price\": \"$80,000\",\n",
    "        \"engine\": \"V8 5.0L\",\n",
    "        \"description\": \"The Superfast Coupe 2024 offers a V8 engine, exceptional acceleration, and high-speed performance. It is ideal for sports car enthusiasts seeking adrenaline and sleek design.\"\n",
    "    },\n",
    "    {\n",
    "        \"name\": \"EcoDrive Hatchback 2024\",\n",
    "        \"price\": \"$25,000\",\n",
    "        \"engine\": \"Electric\",\n",
    "        \"description\": \"The EcoDrive Hatchback 2024 is a fully electric vehicle, designed for urban environments with excellent range efficiency, a compact form factor, and environment-friendly features.\"\n",
    "    },\n",
    "    {\n",
    "        \"name\": \"Family SUV XL 2024\",\n",
    "        \"price\": \"$45,000\",\n",
    "        \"engine\": \"V6 3.5L\",\n",
    "        \"description\": \"The Family SUV XL 2024 is a spacious and versatile SUV that provides comfort, safety, and excellent driving dynamics for long journeys.\"\n",
    "    },\n",
    "    {\n",
    "        \"name\": \"Luxury Sedan Prime 2024\",\n",
    "        \"price\": \"$70,000\",\n",
    "        \"engine\": \"Hybrid\",\n",
    "        \"description\": \"The Luxury Sedan Prime 2024 offers a combination of luxury, efficiency, and hybrid technology, ensuring a comfortable and refined ride for passengers.\"\n",
    "    },\n",
    "]\n"
   ]
  },
  {
   "cell_type": "code",
   "execution_count": 4,
   "metadata": {},
   "outputs": [
    {
     "data": {
      "text/plain": [
       "\"\\nTo enhance the dataset, we will generate additional car entries using OpenAI's GPT-3 model.\\nThe generated data will include car name, price, engine type, and a detailed description.\\nWe will use a prompt to guide the model to return data in a consistent and predictable format.\\n\""
      ]
     },
     "execution_count": 4,
     "metadata": {},
     "output_type": "execute_result"
    }
   ],
   "source": [
    "# Step 3a: Generate more car data using GPT-3\n",
    "\"\"\"\n",
    "To enhance the dataset, we will generate additional car entries using OpenAI's GPT-3 model.\n",
    "The generated data will include car name, price, engine type, and a detailed description.\n",
    "We will use a prompt to guide the model to return data in a consistent and predictable format.\n",
    "\"\"\""
   ]
  },
  {
   "cell_type": "code",
   "execution_count": 5,
   "metadata": {},
   "outputs": [],
   "source": [
    "import openai\n",
    "\n",
    "def generate_car_data(num_cars=50):\n",
    "    \"\"\"\n",
    "    Generates car data using OpenAI's GPT-3 model.\n",
    "    Args:\n",
    "        num_cars (int): Number of car entries to generate.\n",
    "    Returns:\n",
    "        List[dict]: A list of dictionaries containing car details.\n",
    "    \"\"\"\n",
    "    car_data = []\n",
    "    for i in range(num_cars):\n",
    "        response = openai.ChatCompletion.create(\n",
    "            model=\"gpt-3.5-turbo\",\n",
    "            messages=[\n",
    "                {\"role\": \"system\", \"content\": \"You are a helpful assistant that generates car details in a structured format.\"},\n",
    "                {\"role\": \"user\", \"content\": (\n",
    "                    \"Generate details for a car including the following fields: \\n\"\n",
    "                    \"Name: <Car Name>\\n\"\n",
    "                    \"Price: <Car Price>\\n\"\n",
    "                    \"Engine: <Engine Type>\\n\"\n",
    "                    \"Description: <Car Description>\\n\"\n",
    "                    \"Please provide each field in the exact order and format as shown above.\"\n",
    "                )}\n",
    "            ],\n",
    "            max_tokens=150\n",
    "        )\n",
    "        car_details = response['choices'][0]['message']['content']\n",
    "        try:\n",
    "            # Split the response into lines and parse each line\n",
    "            lines = car_details.split('\\n')\n",
    "            car = {\n",
    "                \"name\": lines[0].split(': ')[1].strip(),\n",
    "                \"price\": lines[1].split(': ')[1].strip(),\n",
    "                \"engine\": lines[2].split(': ')[1].strip(),\n",
    "                \"description\": lines[3].split(': ')[1].strip()\n",
    "            }\n",
    "            car_data.append(car)\n",
    "        except (IndexError, ValueError):\n",
    "            print(f\"Error parsing car details for iteration {i}, skipping entry.\")\n",
    "            continue\n",
    "    return car_data\n",
    "\n",
    "# Append the generated cars to the existing cars list\n",
    "\"\"\"\n",
    "Here, we append the 50 generated cars to our initial dataset.\n",
    "This results in a dataset of 54 cars that will be used for embedding storage and retrieval.\n",
    "\"\"\"\n",
    "cars += generate_car_data(5)\n"
   ]
  },
  {
   "cell_type": "code",
   "execution_count": 6,
   "metadata": {},
   "outputs": [],
   "source": [
    "# Step 4: Initialize Chroma DB and prepare embeddings\n",
    "\"\"\"\n",
    "We will use OpenAI embeddings to convert the car descriptions into vectors, which can be easily stored and queried in Chroma.\n",
    "Chroma will serve as our in-memory vector database, allowing us to perform fast similarity searches for the car descriptions.\n",
    "\"\"\"\n",
    "\n",
    "# Set up Chroma and OpenAI embedding function\n",
    "client = chromadb.Client()\n",
    "openai_ef = embedding_functions.OpenAIEmbeddingFunction(api_key=openai.api_key)\n",
    "\n",
    "# Create a new collection for storing car embeddings\n",
    "\"\"\"\n",
    "A Chroma collection is similar to a table in a database.\n",
    "In this collection, we will store embeddings representing each car's description along with metadata such as car name, price, and engine type.\n",
    "\"\"\"\n",
    "car_collection = client.create_collection(name=\"car_collection\", embedding_function=openai_ef)\n",
    "\n",
    "# Add car data to the Chroma collection\n",
    "car_ids = [str(i) for i in range(len(cars))]\n",
    "car_descriptions = [car[\"description\"] for car in cars]\n",
    "car_metadata = [{\"name\": car[\"name\"], \"price\": car[\"price\"], \"engine\": car[\"engine\"]} for car in cars]\n",
    "\n",
    "\"\"\"\n",
    "Adding the car data to Chroma involves specifying unique IDs for each car, the descriptions to embed, and relevant metadata.\n",
    "The metadata will be useful for presenting information to the user when we query the database.\n",
    "\"\"\"\n",
    "car_collection.add(ids=car_ids, metadatas=car_metadata, documents=car_descriptions)\n"
   ]
  },
  {
   "cell_type": "code",
   "execution_count": 13,
   "metadata": {},
   "outputs": [
    {
     "name": "stdout",
     "output_type": "stream",
     "text": [
      "\n",
      "First 5 Cars Entry in the Collection:\n"
     ]
    },
    {
     "data": {
      "text/html": [
       "<div>\n",
       "<style scoped>\n",
       "    .dataframe tbody tr th:only-of-type {\n",
       "        vertical-align: middle;\n",
       "    }\n",
       "\n",
       "    .dataframe tbody tr th {\n",
       "        vertical-align: top;\n",
       "    }\n",
       "\n",
       "    .dataframe thead th {\n",
       "        text-align: right;\n",
       "    }\n",
       "</style>\n",
       "<table border=\"1\" class=\"dataframe\">\n",
       "  <thead>\n",
       "    <tr style=\"text-align: right;\">\n",
       "      <th></th>\n",
       "      <th>engine</th>\n",
       "      <th>name</th>\n",
       "      <th>price</th>\n",
       "      <th>description</th>\n",
       "      <th>embedding</th>\n",
       "    </tr>\n",
       "  </thead>\n",
       "  <tbody>\n",
       "    <tr>\n",
       "      <th>0</th>\n",
       "      <td>V8 5.0L</td>\n",
       "      <td>Superfast Coupe 2024</td>\n",
       "      <td>$80,000</td>\n",
       "      <td>The Superfast Coupe 2024 offers a V8 engine, e...</td>\n",
       "      <td>[-0.03257284313440323, -0.002681222977116704, ...</td>\n",
       "    </tr>\n",
       "    <tr>\n",
       "      <th>1</th>\n",
       "      <td>Electric</td>\n",
       "      <td>EcoDrive Hatchback 2024</td>\n",
       "      <td>$25,000</td>\n",
       "      <td>The EcoDrive Hatchback 2024 is a fully electri...</td>\n",
       "      <td>[0.0016342909075319767, -0.0038865383248776197...</td>\n",
       "    </tr>\n",
       "    <tr>\n",
       "      <th>2</th>\n",
       "      <td>V6 3.5L</td>\n",
       "      <td>Family SUV XL 2024</td>\n",
       "      <td>$45,000</td>\n",
       "      <td>The Family SUV XL 2024 is a spacious and versa...</td>\n",
       "      <td>[0.00976359099149704, -0.010079585947096348, 0...</td>\n",
       "    </tr>\n",
       "    <tr>\n",
       "      <th>3</th>\n",
       "      <td>Hybrid</td>\n",
       "      <td>Luxury Sedan Prime 2024</td>\n",
       "      <td>$70,000</td>\n",
       "      <td>The Luxury Sedan Prime 2024 offers a combinati...</td>\n",
       "      <td>[0.012194924987852573, 0.0030802427791059017, ...</td>\n",
       "    </tr>\n",
       "    <tr>\n",
       "      <th>4</th>\n",
       "      <td>Inline-4</td>\n",
       "      <td>Toyota Camry</td>\n",
       "      <td>$25,000</td>\n",
       "      <td>The Toyota Camry is a reliable and comfortable...</td>\n",
       "      <td>[0.010860085487365723, -0.006394834257662296, ...</td>\n",
       "    </tr>\n",
       "  </tbody>\n",
       "</table>\n",
       "</div>"
      ],
      "text/plain": [
       "     engine                     name    price  \\\n",
       "0   V8 5.0L     Superfast Coupe 2024  $80,000   \n",
       "1  Electric  EcoDrive Hatchback 2024  $25,000   \n",
       "2   V6 3.5L       Family SUV XL 2024  $45,000   \n",
       "3    Hybrid  Luxury Sedan Prime 2024  $70,000   \n",
       "4  Inline-4             Toyota Camry  $25,000   \n",
       "\n",
       "                                         description  \\\n",
       "0  The Superfast Coupe 2024 offers a V8 engine, e...   \n",
       "1  The EcoDrive Hatchback 2024 is a fully electri...   \n",
       "2  The Family SUV XL 2024 is a spacious and versa...   \n",
       "3  The Luxury Sedan Prime 2024 offers a combinati...   \n",
       "4  The Toyota Camry is a reliable and comfortable...   \n",
       "\n",
       "                                           embedding  \n",
       "0  [-0.03257284313440323, -0.002681222977116704, ...  \n",
       "1  [0.0016342909075319767, -0.0038865383248776197...  \n",
       "2  [0.00976359099149704, -0.010079585947096348, 0...  \n",
       "3  [0.012194924987852573, 0.0030802427791059017, ...  \n",
       "4  [0.010860085487365723, -0.006394834257662296, ...  "
      ]
     },
     "execution_count": 13,
     "metadata": {},
     "output_type": "execute_result"
    }
   ],
   "source": [
    "# Display all data in the collection as a pandas DataFrame\n",
    "\"\"\"\n",
    "We will now retrieve all metadata from the Chroma collection and display it as a pandas DataFrame.\n",
    "This provides a clear view of the data stored in the collection.\n",
    "\"\"\"\n",
    "all_metadata = car_collection.get(ids=car_ids, include=[\"embeddings\", \"metadatas\"])\n",
    "car_data = pd.DataFrame(all_metadata['metadatas'])\n",
    "car_data[\"description\"] = car_descriptions\n",
    "car_data[\"embedding\"] = all_metadata['embeddings']\n",
    "print(\"\\nFirst 5 Cars Entry in the Collection:\")\n",
    "car_data.head()"
   ]
  },
  {
   "cell_type": "code",
   "execution_count": null,
   "metadata": {},
   "outputs": [
    {
     "name": "stdout",
     "output_type": "stream",
     "text": [
      "Recommended Car: Family SUV XL 2024\n",
      "Price: $45,000\n",
      "Engine: V6 3.5L\n"
     ]
    },
    {
     "data": {
      "text/plain": [
       "'\\nThis result demonstrates how the RAG approach, combining embeddings and natural language queries, can provide users with relevant and personalized insights.\\nFor a user looking for a specific type of car, such as one that is comfortable for a family, our system can find the best match from the dataset.\\n'"
      ]
     },
     "execution_count": 8,
     "metadata": {},
     "output_type": "execute_result"
    }
   ],
   "source": [
    "# Step 5: Querying Chroma for information\n",
    "\"\"\"\n",
    "In this step, we will demonstrate how to query the Chroma collection to find relevant cars.\n",
    "We will use a natural language prompt to find cars that match specific requirements.\n",
    "The embeddings will allow us to determine the similarity between the query and the car descriptions.\n",
    "\"\"\"\n",
    "\n",
    "# Example query prompt\n",
    "prompts = [\n",
    "    \"I want a comfortable car for my family with good safety features.\",\n",
    "    \"Looking for a sporty car with high speed and acceleration.\",\n",
    "    \"Find me an eco-friendly electric car for urban use.\",\n",
    "    \"I need a luxury sedan with a hybrid engine for a comfortable commute.\",\n",
    "    \"Suggest an affordable car with great fuel efficiency for a student.\"\n",
    "]\n",
    "\n",
    "prompt = np.random.choice(prompts)\n",
    "\n",
    "# Retrieve the top match from Chroma collection\n",
    "\"\"\"\n",
    "Using the `query` method, we search for the most relevant car based on the given prompt.\n",
    "The query will return the car description that is most similar to the provided input.\n",
    "\"\"\"\n",
    "results = car_collection.query(query_texts=[prompt], n_results=1)\n",
    "\n",
    "# Display the result\n",
    "\"\"\"\n",
    "Once we get the result, we extract the metadata for the recommended car, such as its name, price, and engine type.\n",
    "We then print out the recommended car's details for the user.\n",
    "\"\"\"\n",
    "result_metadata = results[\"metadatas\"][0][0]\n",
    "result_name = result_metadata[\"name\"]\n",
    "result_price = result_metadata[\"price\"]\n",
    "result_engine = result_metadata[\"engine\"]\n",
    "\n",
    "print(f\"Recommended Car: {result_name}\\nPrice: {result_price}\\nEngine: {result_engine}\")\n",
    "\n",
    "\"\"\"\n",
    "This result demonstrates how the RAG approach, combining embeddings and natural language queries, can provide users with relevant and personalized insights.\n",
    "For a user looking for a specific type of car, such as one that is comfortable for a family, our system can find the best match from the dataset.\n",
    "\"\"\"\n"
   ]
  },
  {
   "cell_type": "code",
   "execution_count": 9,
   "metadata": {},
   "outputs": [
    {
     "name": "stdout",
     "output_type": "stream",
     "text": [
      "\n",
      "Personalized Message:\n",
      "🚗 Are you looking for a reliable and spacious SUV to drive your family around in style? Look no further than our incredible Family SUV XL 2024! Priced at $45,000, this top-of-the-line vehicle offers all the space and safety features you need for your loved ones.\n",
      "\n",
      "💪 Powered by a robust V6 3.5L engine, this SUV delivers exceptional performance and efficiency to make every drive smooth and enjoyable. With this powerful engine, you'll have the confidence to tackle any road trip or daily commute with ease.\n",
      "\n",
      "Don't miss out on this amazing opportunity to own the perfect family SUV! Contact us now to schedule a test drive and experience the luxury and comfort of the Family SUV XL 2024\n"
     ]
    },
    {
     "data": {
      "text/plain": [
       "'\\nThis step demonstrates how to use the retrieved car data to generate an enriched, human-like response that enhances user engagement.\\nThe message can be further personalized based on additional user preferences or context.\\n'"
      ]
     },
     "execution_count": 9,
     "metadata": {},
     "output_type": "execute_result"
    }
   ],
   "source": [
    "# Step 6: Enriching the output using an LLM\n",
    "\"\"\"\n",
    "We will now use the LLM to generate a personalized message to the car buyer, leveraging the retrieved car's metadata.\n",
    "This step showcases how to combine retrieval with generation for a more tailored experience.\n",
    "\"\"\"\n",
    "def generate_message_for_buyer(car_name, car_price, car_engine):\n",
    "    \"\"\"\n",
    "    Generates a personalized message for the car buyer.\n",
    "    Args:\n",
    "        car_name (str): Name of the recommended car.\n",
    "        car_price (str): Price of the recommended car.\n",
    "        car_engine (str): Engine type of the recommended car.\n",
    "    Returns:\n",
    "        str: A personalized message for the buyer.\n",
    "    \"\"\"\n",
    "    response = openai.ChatCompletion.create(\n",
    "        model=\"gpt-3.5-turbo\",\n",
    "        messages=[\n",
    "            {\"role\": \"system\", \"content\": \"You are a helpful assistant to sell a car.\"},\n",
    "            {\"role\": \"user\", \"content\": (\n",
    "                f\"Create a friendly and engaging message for a car buyer interested in the {car_name}. \\n\"\n",
    "                f\"Mention its price of {car_price} and highlight the {car_engine} engine's benefits.\"\n",
    "            )}\n",
    "        ],\n",
    "        max_tokens=150\n",
    "    )\n",
    "    return response['choices'][0]['message']['content'].strip()\n",
    "\n",
    "# Generate the enriched message\n",
    "enriched_message = generate_message_for_buyer(result_name, result_price, result_engine)\n",
    "print(\"\\nPersonalized Message:\")\n",
    "print(enriched_message)\n",
    "\n",
    "\"\"\"\n",
    "This step demonstrates how to use the retrieved car data to generate an enriched, human-like response that enhances user engagement.\n",
    "The message can be further personalized based on additional user preferences or context.\n",
    "\"\"\""
   ]
  }
 ],
 "metadata": {
  "kernelspec": {
   "display_name": ".venv",
   "language": "python",
   "name": "python3"
  },
  "language_info": {
   "codemirror_mode": {
    "name": "ipython",
    "version": 3
   },
   "file_extension": ".py",
   "mimetype": "text/x-python",
   "name": "python",
   "nbconvert_exporter": "python",
   "pygments_lexer": "ipython3",
   "version": "3.10.12"
  }
 },
 "nbformat": 4,
 "nbformat_minor": 2
}
